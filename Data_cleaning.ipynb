{
 "cells": [
  {
   "cell_type": "code",
   "execution_count": 78,
   "id": "cfe58316-f6fe-4f6c-bf58-f8a6097ed914",
   "metadata": {},
   "outputs": [],
   "source": [
    "import pandas as pd\n",
    "import numpy as np"
   ]
  },
  {
   "cell_type": "code",
   "execution_count": 79,
   "id": "bbbeee34-db1e-4e18-95e5-a7956495b2c5",
   "metadata": {},
   "outputs": [],
   "source": [
    "df = pd.read_csv(r\"C:/Users/culm-erbach/Desktop/project/Caro/mysample_CLEAN.csv\")"
   ]
  },
  {
   "cell_type": "code",
   "execution_count": 81,
   "id": "685a3292-e445-4f55-8b80-92a98f317aeb",
   "metadata": {},
   "outputs": [
    {
     "data": {
      "text/plain": [
       "1.0654733365297533"
      ]
     },
     "execution_count": 81,
     "metadata": {},
     "output_type": "execute_result"
    }
   ],
   "source": [
    "df['ID_token'].value_counts().mean()"
   ]
  },
  {
   "cell_type": "code",
   "execution_count": 84,
   "id": "e795b347-b4c5-4309-a25c-e4b4c88cba2e",
   "metadata": {},
   "outputs": [
    {
     "data": {
      "text/plain": [
       "18771"
      ]
     },
     "execution_count": 84,
     "metadata": {},
     "output_type": "execute_result"
    }
   ],
   "source": [
    "df['ID_token'].nunique()"
   ]
  },
  {
   "cell_type": "code",
   "execution_count": 85,
   "id": "e5503f76-7954-473d-8453-54ca54fa4146",
   "metadata": {},
   "outputs": [],
   "source": [
    "#Create new column for Year and Month\n",
    "df[\"YearMo\"] = [ i[:7] for i in df[\"Datetime_updated\"]]"
   ]
  },
  {
   "cell_type": "code",
   "execution_count": 87,
   "id": "affc849b-4829-4518-bed3-4acebb087578",
   "metadata": {},
   "outputs": [],
   "source": [
    "#Spalten in Datetime Format\n",
    "df['Datetime_updated'] = pd.to_datetime(df['Datetime_updated'])\n",
    "df['Datetime_updated_seconds'] = pd.to_datetime(df['Datetime_updated_seconds'])"
   ]
  },
  {
   "cell_type": "code",
   "execution_count": 88,
   "id": "72a15c52-60d9-43f9-a395-46deb51ac201",
   "metadata": {},
   "outputs": [],
   "source": [
    "# Nach Datum sortieren, nach ID gruppieren und jeweils das Datum des ersten verkaufs in neuer Spalte"
   ]
  },
  {
   "cell_type": "code",
   "execution_count": 89,
   "id": "1cd9eb4e-0d27-4d73-8275-9473f7b5f4a2",
   "metadata": {},
   "outputs": [],
   "source": [
    "df = df.sort_values(by=['Datetime_updated_seconds'],ignore_index=True)\n",
    "df['fist_buy'] = df.groupby(['ID_token'])['Datetime_updated_seconds'].transform('first')"
   ]
  },
  {
   "cell_type": "code",
   "execution_count": 90,
   "id": "dbf7a36e-01d7-4277-9f1f-bca5232732ad",
   "metadata": {},
   "outputs": [],
   "source": [
    "# to-do: dummy; if Datetime_updated_seconds == fist_buy dann 1, sonst 0"
   ]
  },
  {
   "cell_type": "code",
   "execution_count": 91,
   "id": "02a4a73b-fc9a-43c7-83a6-cc9ca54c5d96",
   "metadata": {},
   "outputs": [],
   "source": [
    "df['fist_buy_dummy'] = np.where((df['fist_buy'] == df['Datetime_updated_seconds'])\n",
    "                     , 1, 0)"
   ]
  },
  {
   "cell_type": "code",
   "execution_count": 92,
   "id": "09dfe960-3bdc-4080-a8b1-021fb9ab9004",
   "metadata": {},
   "outputs": [
    {
     "data": {
      "text/html": [
       "<div>\n",
       "<style scoped>\n",
       "    .dataframe tbody tr th:only-of-type {\n",
       "        vertical-align: middle;\n",
       "    }\n",
       "\n",
       "    .dataframe tbody tr th {\n",
       "        vertical-align: top;\n",
       "    }\n",
       "\n",
       "    .dataframe thead th {\n",
       "        text-align: right;\n",
       "    }\n",
       "</style>\n",
       "<table border=\"1\" class=\"dataframe\">\n",
       "  <thead>\n",
       "    <tr style=\"text-align: right;\">\n",
       "      <th></th>\n",
       "      <th>Unnamed: 0</th>\n",
       "      <th>ID_token</th>\n",
       "      <th>Price_USD</th>\n",
       "      <th>Name</th>\n",
       "      <th>Description</th>\n",
       "      <th>Collection</th>\n",
       "      <th>Collection_cleaned</th>\n",
       "      <th>Datetime_updated_seconds</th>\n",
       "      <th>Seller_address</th>\n",
       "      <th>Buyer_address</th>\n",
       "      <th>...</th>\n",
       "      <th>Crypto</th>\n",
       "      <th>Datetime_updated</th>\n",
       "      <th>Category</th>\n",
       "      <th>Market</th>\n",
       "      <th>Smart_contract</th>\n",
       "      <th>Image_url_1</th>\n",
       "      <th>Unique_id_collection</th>\n",
       "      <th>YearMo</th>\n",
       "      <th>fist_buy</th>\n",
       "      <th>fist_buy_dummy</th>\n",
       "    </tr>\n",
       "  </thead>\n",
       "  <tbody>\n",
       "    <tr>\n",
       "      <th>6765</th>\n",
       "      <td>7950</td>\n",
       "      <td>1043670</td>\n",
       "      <td>16.360650</td>\n",
       "      <td>Hime Sulkyki</td>\n",
       "      <td>Ohayou. I'm Hime Sulkyki. No cat puns, please....</td>\n",
       "      <td>Cryptokitties</td>\n",
       "      <td>Cryptokittie</td>\n",
       "      <td>2019-02-15 22:27:44</td>\n",
       "      <td>0x6a47b60c377450a460d3eb828d534ee66eead668</td>\n",
       "      <td>0x1c1ef71445010114f41ac1feb32dbf5d7281e90f</td>\n",
       "      <td>...</td>\n",
       "      <td>ETH</td>\n",
       "      <td>2019-02-15</td>\n",
       "      <td>Art</td>\n",
       "      <td>OpenSea</td>\n",
       "      <td>0x06012c8cf97bead5deae237070f9587f8e7a266d</td>\n",
       "      <td>https://storage.opensea.io/0x06012c8cf97bead5d...</td>\n",
       "      <td>('Cryptokitties', '1043670')</td>\n",
       "      <td>2019-02</td>\n",
       "      <td>2019-02-15 22:27:44</td>\n",
       "      <td>1</td>\n",
       "    </tr>\n",
       "    <tr>\n",
       "      <th>6960</th>\n",
       "      <td>3555</td>\n",
       "      <td>1043670</td>\n",
       "      <td>19.903050</td>\n",
       "      <td>Hime Sulkyki</td>\n",
       "      <td>Ohayou. I'm Hime Sulkyki. No cat puns, please....</td>\n",
       "      <td>Cryptokitties</td>\n",
       "      <td>Cryptokittie</td>\n",
       "      <td>2019-02-22 08:47:04</td>\n",
       "      <td>0xa37e6b46fa8e1a6f1ddbf035c4e0230b8414ff04</td>\n",
       "      <td>0x87b77fabfeb869150b8e1b9462603f9a639c5fae</td>\n",
       "      <td>...</td>\n",
       "      <td>ETH</td>\n",
       "      <td>2019-02-22</td>\n",
       "      <td>Art</td>\n",
       "      <td>OpenSea</td>\n",
       "      <td>0x06012c8cf97bead5deae237070f9587f8e7a266d</td>\n",
       "      <td>https://storage.opensea.io/0x06012c8cf97bead5d...</td>\n",
       "      <td>('Cryptokitties', '1043670')</td>\n",
       "      <td>2019-02</td>\n",
       "      <td>2019-02-15 22:27:44</td>\n",
       "      <td>0</td>\n",
       "    </tr>\n",
       "    <tr>\n",
       "      <th>7070</th>\n",
       "      <td>10659</td>\n",
       "      <td>1043670</td>\n",
       "      <td>18.413325</td>\n",
       "      <td>Hime Sulkyki</td>\n",
       "      <td>Ohayou. I'm Hime Sulkyki. No cat puns, please....</td>\n",
       "      <td>Cryptokitties</td>\n",
       "      <td>Cryptokittie</td>\n",
       "      <td>2019-02-26 11:47:02</td>\n",
       "      <td>0x838c14eb3eabe4cb6a696d286c7b2a466629d0ee</td>\n",
       "      <td>0xa37e6b46fa8e1a6f1ddbf035c4e0230b8414ff04</td>\n",
       "      <td>...</td>\n",
       "      <td>ETH</td>\n",
       "      <td>2019-02-26</td>\n",
       "      <td>Art</td>\n",
       "      <td>OpenSea</td>\n",
       "      <td>0x06012c8cf97bead5deae237070f9587f8e7a266d</td>\n",
       "      <td>https://storage.opensea.io/0x06012c8cf97bead5d...</td>\n",
       "      <td>('Cryptokitties', '1043670')</td>\n",
       "      <td>2019-02</td>\n",
       "      <td>2019-02-15 22:27:44</td>\n",
       "      <td>0</td>\n",
       "    </tr>\n",
       "    <tr>\n",
       "      <th>7342</th>\n",
       "      <td>11998</td>\n",
       "      <td>1043670</td>\n",
       "      <td>18.195975</td>\n",
       "      <td>Hime Sulkyki</td>\n",
       "      <td>Ohayou. I'm Hime Sulkyki. No cat puns, please....</td>\n",
       "      <td>Cryptokitties</td>\n",
       "      <td>Cryptokittie</td>\n",
       "      <td>2019-03-08 09:16:55</td>\n",
       "      <td>0x00c9da65b33b4f7034b5f50b90f5f6d8320d6ab8</td>\n",
       "      <td>0xbabda06088c242fb2a763aa7cc99706cb77ba735</td>\n",
       "      <td>...</td>\n",
       "      <td>ETH</td>\n",
       "      <td>2019-03-08</td>\n",
       "      <td>Art</td>\n",
       "      <td>OpenSea</td>\n",
       "      <td>0x06012c8cf97bead5deae237070f9587f8e7a266d</td>\n",
       "      <td>https://storage.opensea.io/0x06012c8cf97bead5d...</td>\n",
       "      <td>('Cryptokitties', '1043670')</td>\n",
       "      <td>2019-03</td>\n",
       "      <td>2019-02-15 22:27:44</td>\n",
       "      <td>0</td>\n",
       "    </tr>\n",
       "    <tr>\n",
       "      <th>7350</th>\n",
       "      <td>18578</td>\n",
       "      <td>1043670</td>\n",
       "      <td>18.195975</td>\n",
       "      <td>Hime Sulkyki</td>\n",
       "      <td>Ohayou. I'm Hime Sulkyki. No cat puns, please....</td>\n",
       "      <td>Cryptokitties</td>\n",
       "      <td>Cryptokittie</td>\n",
       "      <td>2019-03-08 13:12:06</td>\n",
       "      <td>0xbabda06088c242fb2a763aa7cc99706cb77ba735</td>\n",
       "      <td>0x8acc1421ec98689461ff5777de8ad6648dc6d643</td>\n",
       "      <td>...</td>\n",
       "      <td>ETH</td>\n",
       "      <td>2019-03-08</td>\n",
       "      <td>Art</td>\n",
       "      <td>OpenSea</td>\n",
       "      <td>0x06012c8cf97bead5deae237070f9587f8e7a266d</td>\n",
       "      <td>https://storage.opensea.io/0x06012c8cf97bead5d...</td>\n",
       "      <td>('Cryptokitties', '1043670')</td>\n",
       "      <td>2019-03</td>\n",
       "      <td>2019-02-15 22:27:44</td>\n",
       "      <td>0</td>\n",
       "    </tr>\n",
       "  </tbody>\n",
       "</table>\n",
       "<p>5 rows × 21 columns</p>\n",
       "</div>"
      ],
      "text/plain": [
       "      Unnamed: 0  ID_token  Price_USD          Name  \\\n",
       "6765        7950   1043670  16.360650  Hime Sulkyki   \n",
       "6960        3555   1043670  19.903050  Hime Sulkyki   \n",
       "7070       10659   1043670  18.413325  Hime Sulkyki   \n",
       "7342       11998   1043670  18.195975  Hime Sulkyki   \n",
       "7350       18578   1043670  18.195975  Hime Sulkyki   \n",
       "\n",
       "                                            Description     Collection  \\\n",
       "6765  Ohayou. I'm Hime Sulkyki. No cat puns, please....  Cryptokitties   \n",
       "6960  Ohayou. I'm Hime Sulkyki. No cat puns, please....  Cryptokitties   \n",
       "7070  Ohayou. I'm Hime Sulkyki. No cat puns, please....  Cryptokitties   \n",
       "7342  Ohayou. I'm Hime Sulkyki. No cat puns, please....  Cryptokitties   \n",
       "7350  Ohayou. I'm Hime Sulkyki. No cat puns, please....  Cryptokitties   \n",
       "\n",
       "     Collection_cleaned Datetime_updated_seconds  \\\n",
       "6765       Cryptokittie      2019-02-15 22:27:44   \n",
       "6960       Cryptokittie      2019-02-22 08:47:04   \n",
       "7070       Cryptokittie      2019-02-26 11:47:02   \n",
       "7342       Cryptokittie      2019-03-08 09:16:55   \n",
       "7350       Cryptokittie      2019-03-08 13:12:06   \n",
       "\n",
       "                                  Seller_address  \\\n",
       "6765  0x6a47b60c377450a460d3eb828d534ee66eead668   \n",
       "6960  0xa37e6b46fa8e1a6f1ddbf035c4e0230b8414ff04   \n",
       "7070  0x838c14eb3eabe4cb6a696d286c7b2a466629d0ee   \n",
       "7342  0x00c9da65b33b4f7034b5f50b90f5f6d8320d6ab8   \n",
       "7350  0xbabda06088c242fb2a763aa7cc99706cb77ba735   \n",
       "\n",
       "                                   Buyer_address  ...  Crypto  \\\n",
       "6765  0x1c1ef71445010114f41ac1feb32dbf5d7281e90f  ...     ETH   \n",
       "6960  0x87b77fabfeb869150b8e1b9462603f9a639c5fae  ...     ETH   \n",
       "7070  0xa37e6b46fa8e1a6f1ddbf035c4e0230b8414ff04  ...     ETH   \n",
       "7342  0xbabda06088c242fb2a763aa7cc99706cb77ba735  ...     ETH   \n",
       "7350  0x8acc1421ec98689461ff5777de8ad6648dc6d643  ...     ETH   \n",
       "\n",
       "     Datetime_updated Category   Market  \\\n",
       "6765       2019-02-15      Art  OpenSea   \n",
       "6960       2019-02-22      Art  OpenSea   \n",
       "7070       2019-02-26      Art  OpenSea   \n",
       "7342       2019-03-08      Art  OpenSea   \n",
       "7350       2019-03-08      Art  OpenSea   \n",
       "\n",
       "                                  Smart_contract  \\\n",
       "6765  0x06012c8cf97bead5deae237070f9587f8e7a266d   \n",
       "6960  0x06012c8cf97bead5deae237070f9587f8e7a266d   \n",
       "7070  0x06012c8cf97bead5deae237070f9587f8e7a266d   \n",
       "7342  0x06012c8cf97bead5deae237070f9587f8e7a266d   \n",
       "7350  0x06012c8cf97bead5deae237070f9587f8e7a266d   \n",
       "\n",
       "                                            Image_url_1  \\\n",
       "6765  https://storage.opensea.io/0x06012c8cf97bead5d...   \n",
       "6960  https://storage.opensea.io/0x06012c8cf97bead5d...   \n",
       "7070  https://storage.opensea.io/0x06012c8cf97bead5d...   \n",
       "7342  https://storage.opensea.io/0x06012c8cf97bead5d...   \n",
       "7350  https://storage.opensea.io/0x06012c8cf97bead5d...   \n",
       "\n",
       "              Unique_id_collection   YearMo            fist_buy fist_buy_dummy  \n",
       "6765  ('Cryptokitties', '1043670')  2019-02 2019-02-15 22:27:44              1  \n",
       "6960  ('Cryptokitties', '1043670')  2019-02 2019-02-15 22:27:44              0  \n",
       "7070  ('Cryptokitties', '1043670')  2019-02 2019-02-15 22:27:44              0  \n",
       "7342  ('Cryptokitties', '1043670')  2019-03 2019-02-15 22:27:44              0  \n",
       "7350  ('Cryptokitties', '1043670')  2019-03 2019-02-15 22:27:44              0  \n",
       "\n",
       "[5 rows x 21 columns]"
      ]
     },
     "execution_count": 92,
     "metadata": {},
     "output_type": "execute_result"
    }
   ],
   "source": [
    "df.loc[df['ID_token'] == 1043670].head()"
   ]
  },
  {
   "cell_type": "code",
   "execution_count": 93,
   "id": "7b4ba18a-ff20-4a41-8ec0-f1c9ecb5ad0e",
   "metadata": {},
   "outputs": [],
   "source": [
    "# 3.: New column time_elapsed, Zweit zwischen Weiterverkaufs eines NFTs\n",
    "# df sortiert nach ID und Datetime; differenz zum vorherigen"
   ]
  },
  {
   "cell_type": "code",
   "execution_count": 94,
   "id": "e713d3e6-da20-4c9d-bcba-366a1ebae547",
   "metadata": {},
   "outputs": [],
   "source": [
    "df = df.sort_values(by=['ID_token','Datetime_updated_seconds'],ignore_index=True)"
   ]
  },
  {
   "cell_type": "code",
   "execution_count": 95,
   "id": "58e7d5c6-0797-46c2-8d45-a7ba5d04450d",
   "metadata": {},
   "outputs": [],
   "source": [
    "df['time_elapsed'] = df.groupby('ID_token')['Datetime_updated_seconds'].apply(lambda x: x.dt.date - x.min().date())"
   ]
  },
  {
   "cell_type": "code",
   "execution_count": 96,
   "id": "95d50f4f-96a9-4754-b978-cf29fe8510e3",
   "metadata": {},
   "outputs": [
    {
     "data": {
      "text/html": [
       "<div>\n",
       "<style scoped>\n",
       "    .dataframe tbody tr th:only-of-type {\n",
       "        vertical-align: middle;\n",
       "    }\n",
       "\n",
       "    .dataframe tbody tr th {\n",
       "        vertical-align: top;\n",
       "    }\n",
       "\n",
       "    .dataframe thead th {\n",
       "        text-align: right;\n",
       "    }\n",
       "</style>\n",
       "<table border=\"1\" class=\"dataframe\">\n",
       "  <thead>\n",
       "    <tr style=\"text-align: right;\">\n",
       "      <th></th>\n",
       "      <th>Unnamed: 0</th>\n",
       "      <th>ID_token</th>\n",
       "      <th>Price_USD</th>\n",
       "      <th>Name</th>\n",
       "      <th>Description</th>\n",
       "      <th>Collection</th>\n",
       "      <th>Collection_cleaned</th>\n",
       "      <th>Datetime_updated_seconds</th>\n",
       "      <th>Seller_address</th>\n",
       "      <th>Buyer_address</th>\n",
       "      <th>...</th>\n",
       "      <th>Datetime_updated</th>\n",
       "      <th>Category</th>\n",
       "      <th>Market</th>\n",
       "      <th>Smart_contract</th>\n",
       "      <th>Image_url_1</th>\n",
       "      <th>Unique_id_collection</th>\n",
       "      <th>YearMo</th>\n",
       "      <th>fist_buy</th>\n",
       "      <th>fist_buy_dummy</th>\n",
       "      <th>time_elapsed</th>\n",
       "    </tr>\n",
       "  </thead>\n",
       "  <tbody>\n",
       "  </tbody>\n",
       "</table>\n",
       "<p>0 rows × 22 columns</p>\n",
       "</div>"
      ],
      "text/plain": [
       "Empty DataFrame\n",
       "Columns: [Unnamed: 0, ID_token, Price_USD, Name, Description, Collection, Collection_cleaned, Datetime_updated_seconds, Seller_address, Buyer_address, Price_Crypto, Crypto, Datetime_updated, Category, Market, Smart_contract, Image_url_1, Unique_id_collection, YearMo, fist_buy, fist_buy_dummy, time_elapsed]\n",
       "Index: []\n",
       "\n",
       "[0 rows x 22 columns]"
      ]
     },
     "execution_count": 96,
     "metadata": {},
     "output_type": "execute_result"
    }
   ],
   "source": [
    "df.loc[df['ID_token'] == 1.000000e+00].head()"
   ]
  },
  {
   "cell_type": "code",
   "execution_count": 97,
   "id": "2e9e6a0d-1e35-4408-b209-b41ab91c8721",
   "metadata": {},
   "outputs": [],
   "source": [
    "#4.: New Column with count of NFT of each Buyer/seller\n",
    "# Buyer_adress: groubby and count unique ID token"
   ]
  },
  {
   "cell_type": "code",
   "execution_count": 98,
   "id": "68d09e40-50b3-40bf-a1f2-4bb35d513ada",
   "metadata": {},
   "outputs": [],
   "source": [
    "df['buyer_count'] = (\n",
    "    df.groupby([\"Buyer_address\"])['ID_token'].transform('nunique'))"
   ]
  },
  {
   "cell_type": "code",
   "execution_count": 99,
   "id": "26a5c88c-839a-4f6d-8b55-f6f3466ed66a",
   "metadata": {},
   "outputs": [],
   "source": [
    "# Seller_address: groubby and count unique ID token\n",
    "df['seller_count'] = (\n",
    "    df.groupby([\"Seller_address\"])['ID_token'].transform('nunique'))"
   ]
  },
  {
   "cell_type": "code",
   "execution_count": 100,
   "id": "acb393c8-ecde-46e6-8bb5-12df479a6c06",
   "metadata": {},
   "outputs": [
    {
     "data": {
      "text/plain": [
       "1     6395\n",
       "2     1808\n",
       "3      954\n",
       "4      548\n",
       "5      427\n",
       "      ... \n",
       "55      55\n",
       "53      53\n",
       "48      48\n",
       "45      45\n",
       "43      43\n",
       "Name: buyer_count, Length: 68, dtype: int64"
      ]
     },
     "execution_count": 100,
     "metadata": {},
     "output_type": "execute_result"
    }
   ],
   "source": [
    "df['buyer_count'].value_counts()"
   ]
  },
  {
   "cell_type": "markdown",
   "id": "e82772b1-050d-4620-9a91-8490c12761a2",
   "metadata": {},
   "source": [
    "### Mit count probieren"
   ]
  },
  {
   "cell_type": "code",
   "execution_count": 101,
   "id": "bca04638-286b-4d56-865e-5986265f1695",
   "metadata": {
    "tags": []
   },
   "outputs": [],
   "source": [
    "#df['sold_nr'] = df['ID_token'].groupby(df['ID_token']).transform('sum')"
   ]
  },
  {
   "cell_type": "code",
   "execution_count": 102,
   "id": "19b58ba3-135e-4f47-8965-e13ecff774ab",
   "metadata": {},
   "outputs": [],
   "source": [
    "df['time_elapsed'] = df['time_elapsed'].astype('timedelta64[D]')"
   ]
  },
  {
   "cell_type": "code",
   "execution_count": 103,
   "id": "09e35b9f-9874-47c8-98cf-5d320ef93e11",
   "metadata": {},
   "outputs": [
    {
     "data": {
      "text/plain": [
       "Unnamed: 0                           int64\n",
       "ID_token                             int64\n",
       "Price_USD                          float64\n",
       "Name                                object\n",
       "Description                         object\n",
       "Collection                          object\n",
       "Collection_cleaned                  object\n",
       "Datetime_updated_seconds    datetime64[ns]\n",
       "Seller_address                      object\n",
       "Buyer_address                       object\n",
       "Price_Crypto                       float64\n",
       "Crypto                              object\n",
       "Datetime_updated            datetime64[ns]\n",
       "Category                            object\n",
       "Market                              object\n",
       "Smart_contract                      object\n",
       "Image_url_1                         object\n",
       "Unique_id_collection                object\n",
       "YearMo                              object\n",
       "fist_buy                    datetime64[ns]\n",
       "fist_buy_dummy                       int32\n",
       "time_elapsed                       float64\n",
       "buyer_count                          int64\n",
       "seller_count                         int64\n",
       "dtype: object"
      ]
     },
     "execution_count": 103,
     "metadata": {},
     "output_type": "execute_result"
    }
   ],
   "source": [
    "df.dtypes"
   ]
  },
  {
   "cell_type": "code",
   "execution_count": 104,
   "id": "1e67fb05-f409-4205-a994-e9469a8f2d08",
   "metadata": {},
   "outputs": [],
   "source": [
    "df['sold_counts'] = df.groupby(['ID_token'])['Price_USD'].transform('count')"
   ]
  },
  {
   "cell_type": "code",
   "execution_count": 105,
   "id": "ca935d47-f042-4862-90dc-0b8875912987",
   "metadata": {},
   "outputs": [
    {
     "data": {
      "text/html": [
       "<div>\n",
       "<style scoped>\n",
       "    .dataframe tbody tr th:only-of-type {\n",
       "        vertical-align: middle;\n",
       "    }\n",
       "\n",
       "    .dataframe tbody tr th {\n",
       "        vertical-align: top;\n",
       "    }\n",
       "\n",
       "    .dataframe thead th {\n",
       "        text-align: right;\n",
       "    }\n",
       "</style>\n",
       "<table border=\"1\" class=\"dataframe\">\n",
       "  <thead>\n",
       "    <tr style=\"text-align: right;\">\n",
       "      <th></th>\n",
       "      <th>Unnamed: 0</th>\n",
       "      <th>ID_token</th>\n",
       "      <th>Price_USD</th>\n",
       "      <th>Name</th>\n",
       "      <th>Description</th>\n",
       "      <th>Collection</th>\n",
       "      <th>Collection_cleaned</th>\n",
       "      <th>Datetime_updated_seconds</th>\n",
       "      <th>Seller_address</th>\n",
       "      <th>Buyer_address</th>\n",
       "      <th>...</th>\n",
       "      <th>Smart_contract</th>\n",
       "      <th>Image_url_1</th>\n",
       "      <th>Unique_id_collection</th>\n",
       "      <th>YearMo</th>\n",
       "      <th>fist_buy</th>\n",
       "      <th>fist_buy_dummy</th>\n",
       "      <th>time_elapsed</th>\n",
       "      <th>buyer_count</th>\n",
       "      <th>seller_count</th>\n",
       "      <th>sold_counts</th>\n",
       "    </tr>\n",
       "  </thead>\n",
       "  <tbody>\n",
       "    <tr>\n",
       "      <th>0</th>\n",
       "      <td>4371</td>\n",
       "      <td>100003</td>\n",
       "      <td>16.86940</td>\n",
       "      <td>NFTBoxes - Used March 2021 Ticket</td>\n",
       "      <td>A used March 2021 NFTBoxes ticket</td>\n",
       "      <td>Nftboxes</td>\n",
       "      <td>Nft</td>\n",
       "      <td>2021-03-23 02:07:53</td>\n",
       "      <td>0x65a831d9fb2cc87a7956eb8e4720956f6bfc6eea</td>\n",
       "      <td>0x40ac5a8ed8581080ada5decb70e8ea40327e96d5</td>\n",
       "      <td>...</td>\n",
       "      <td>0x5237e33d805339925aa5ab220f13b386357aa349</td>\n",
       "      <td>https://lh3.googleusercontent.com/-nw87QX4KB0s...</td>\n",
       "      <td>('Nftboxes', '100003')</td>\n",
       "      <td>2021-03</td>\n",
       "      <td>2021-03-23 02:07:53</td>\n",
       "      <td>1</td>\n",
       "      <td>0.0</td>\n",
       "      <td>1</td>\n",
       "      <td>1</td>\n",
       "      <td>4</td>\n",
       "    </tr>\n",
       "    <tr>\n",
       "      <th>1</th>\n",
       "      <td>11114</td>\n",
       "      <td>100003</td>\n",
       "      <td>15.85335</td>\n",
       "      <td>NFTBoxes - Used March 2021 Ticket</td>\n",
       "      <td>A used March 2021 NFTBoxes ticket</td>\n",
       "      <td>Nftboxes</td>\n",
       "      <td>Nft</td>\n",
       "      <td>2021-03-25 17:48:27</td>\n",
       "      <td>0x46b1beee557c369394db6e081aa1f6e02dd4cb77</td>\n",
       "      <td>0xa202e5ff950ee4ef4b70799838473c0664e175cd</td>\n",
       "      <td>...</td>\n",
       "      <td>0x5237e33d805339925aa5ab220f13b386357aa349</td>\n",
       "      <td>https://lh3.googleusercontent.com/-nw87QX4KB0s...</td>\n",
       "      <td>('Nftboxes', '100003')</td>\n",
       "      <td>2021-03</td>\n",
       "      <td>2021-03-23 02:07:53</td>\n",
       "      <td>0</td>\n",
       "      <td>2.0</td>\n",
       "      <td>1</td>\n",
       "      <td>1</td>\n",
       "      <td>4</td>\n",
       "    </tr>\n",
       "    <tr>\n",
       "      <th>2</th>\n",
       "      <td>7368</td>\n",
       "      <td>100003</td>\n",
       "      <td>55.79295</td>\n",
       "      <td>NFTBoxes - Used March 2021 Ticket</td>\n",
       "      <td>A used March 2021 NFTBoxes ticket</td>\n",
       "      <td>Nftboxes</td>\n",
       "      <td>Nft</td>\n",
       "      <td>2021-03-31 01:27:14</td>\n",
       "      <td>0x0a2d58e423ba3beadcef9b14b684f52e23aba71e</td>\n",
       "      <td>0x730d651cfff957e0e12517434579e1738e2526db</td>\n",
       "      <td>...</td>\n",
       "      <td>0x5237e33d805339925aa5ab220f13b386357aa349</td>\n",
       "      <td>https://lh3.googleusercontent.com/-nw87QX4KB0s...</td>\n",
       "      <td>('Nftboxes', '100003')</td>\n",
       "      <td>2021-03</td>\n",
       "      <td>2021-03-23 02:07:53</td>\n",
       "      <td>0</td>\n",
       "      <td>8.0</td>\n",
       "      <td>1</td>\n",
       "      <td>1</td>\n",
       "      <td>4</td>\n",
       "    </tr>\n",
       "    <tr>\n",
       "      <th>3</th>\n",
       "      <td>14639</td>\n",
       "      <td>100003</td>\n",
       "      <td>22.68980</td>\n",
       "      <td>NFTBoxes - Used March 2021 Ticket</td>\n",
       "      <td>A used March 2021 NFTBoxes ticket</td>\n",
       "      <td>Nftboxes</td>\n",
       "      <td>Nft</td>\n",
       "      <td>2021-04-23 20:34:34</td>\n",
       "      <td>0xa90a1452ea66fa8912f5473ec46aaebe65e7306f</td>\n",
       "      <td>0x8be77f3dcc29e6a3efdbebba80d81257312525c4</td>\n",
       "      <td>...</td>\n",
       "      <td>0x5237e33d805339925aa5ab220f13b386357aa349</td>\n",
       "      <td>https://lh3.googleusercontent.com/-nw87QX4KB0s...</td>\n",
       "      <td>('Nftboxes', '100003')</td>\n",
       "      <td>2021-04</td>\n",
       "      <td>2021-03-23 02:07:53</td>\n",
       "      <td>0</td>\n",
       "      <td>31.0</td>\n",
       "      <td>1</td>\n",
       "      <td>1</td>\n",
       "      <td>4</td>\n",
       "    </tr>\n",
       "    <tr>\n",
       "      <th>4</th>\n",
       "      <td>14785</td>\n",
       "      <td>100216</td>\n",
       "      <td>49.65480</td>\n",
       "      <td>LAND (52, 41)</td>\n",
       "      <td>A LAND is a digital piece of real estate in Th...</td>\n",
       "      <td>Sandbox</td>\n",
       "      <td>Sandbox</td>\n",
       "      <td>2020-03-26 13:26:30</td>\n",
       "      <td>0xa7c60ee5c707d4bd67319c17745851b42a2e4578</td>\n",
       "      <td>0xc4fcadeaf8e77c4b859473142aef83a7ac7f4704</td>\n",
       "      <td>...</td>\n",
       "      <td>0x50f5474724e0ee42d9a4e711ccfb275809fd6d4a</td>\n",
       "      <td>https://lh3.googleusercontent.com/17vU_UNWeMOV...</td>\n",
       "      <td>('Sandbox', '100216')</td>\n",
       "      <td>2020-03</td>\n",
       "      <td>2020-03-26 13:26:30</td>\n",
       "      <td>1</td>\n",
       "      <td>0.0</td>\n",
       "      <td>1</td>\n",
       "      <td>1</td>\n",
       "      <td>1</td>\n",
       "    </tr>\n",
       "  </tbody>\n",
       "</table>\n",
       "<p>5 rows × 25 columns</p>\n",
       "</div>"
      ],
      "text/plain": [
       "   Unnamed: 0  ID_token  Price_USD                               Name  \\\n",
       "0        4371    100003   16.86940  NFTBoxes - Used March 2021 Ticket   \n",
       "1       11114    100003   15.85335  NFTBoxes - Used March 2021 Ticket   \n",
       "2        7368    100003   55.79295  NFTBoxes - Used March 2021 Ticket   \n",
       "3       14639    100003   22.68980  NFTBoxes - Used March 2021 Ticket   \n",
       "4       14785    100216   49.65480                      LAND (52, 41)   \n",
       "\n",
       "                                         Description Collection  \\\n",
       "0                  A used March 2021 NFTBoxes ticket   Nftboxes   \n",
       "1                  A used March 2021 NFTBoxes ticket   Nftboxes   \n",
       "2                  A used March 2021 NFTBoxes ticket   Nftboxes   \n",
       "3                  A used March 2021 NFTBoxes ticket   Nftboxes   \n",
       "4  A LAND is a digital piece of real estate in Th...    Sandbox   \n",
       "\n",
       "  Collection_cleaned Datetime_updated_seconds  \\\n",
       "0                Nft      2021-03-23 02:07:53   \n",
       "1                Nft      2021-03-25 17:48:27   \n",
       "2                Nft      2021-03-31 01:27:14   \n",
       "3                Nft      2021-04-23 20:34:34   \n",
       "4            Sandbox      2020-03-26 13:26:30   \n",
       "\n",
       "                               Seller_address  \\\n",
       "0  0x65a831d9fb2cc87a7956eb8e4720956f6bfc6eea   \n",
       "1  0x46b1beee557c369394db6e081aa1f6e02dd4cb77   \n",
       "2  0x0a2d58e423ba3beadcef9b14b684f52e23aba71e   \n",
       "3  0xa90a1452ea66fa8912f5473ec46aaebe65e7306f   \n",
       "4  0xa7c60ee5c707d4bd67319c17745851b42a2e4578   \n",
       "\n",
       "                                Buyer_address  ...  \\\n",
       "0  0x40ac5a8ed8581080ada5decb70e8ea40327e96d5  ...   \n",
       "1  0xa202e5ff950ee4ef4b70799838473c0664e175cd  ...   \n",
       "2  0x730d651cfff957e0e12517434579e1738e2526db  ...   \n",
       "3  0x8be77f3dcc29e6a3efdbebba80d81257312525c4  ...   \n",
       "4  0xc4fcadeaf8e77c4b859473142aef83a7ac7f4704  ...   \n",
       "\n",
       "                               Smart_contract  \\\n",
       "0  0x5237e33d805339925aa5ab220f13b386357aa349   \n",
       "1  0x5237e33d805339925aa5ab220f13b386357aa349   \n",
       "2  0x5237e33d805339925aa5ab220f13b386357aa349   \n",
       "3  0x5237e33d805339925aa5ab220f13b386357aa349   \n",
       "4  0x50f5474724e0ee42d9a4e711ccfb275809fd6d4a   \n",
       "\n",
       "                                         Image_url_1    Unique_id_collection  \\\n",
       "0  https://lh3.googleusercontent.com/-nw87QX4KB0s...  ('Nftboxes', '100003')   \n",
       "1  https://lh3.googleusercontent.com/-nw87QX4KB0s...  ('Nftboxes', '100003')   \n",
       "2  https://lh3.googleusercontent.com/-nw87QX4KB0s...  ('Nftboxes', '100003')   \n",
       "3  https://lh3.googleusercontent.com/-nw87QX4KB0s...  ('Nftboxes', '100003')   \n",
       "4  https://lh3.googleusercontent.com/17vU_UNWeMOV...   ('Sandbox', '100216')   \n",
       "\n",
       "    YearMo            fist_buy fist_buy_dummy time_elapsed buyer_count  \\\n",
       "0  2021-03 2021-03-23 02:07:53              1          0.0           1   \n",
       "1  2021-03 2021-03-23 02:07:53              0          2.0           1   \n",
       "2  2021-03 2021-03-23 02:07:53              0          8.0           1   \n",
       "3  2021-04 2021-03-23 02:07:53              0         31.0           1   \n",
       "4  2020-03 2020-03-26 13:26:30              1          0.0           1   \n",
       "\n",
       "  seller_count sold_counts  \n",
       "0            1           4  \n",
       "1            1           4  \n",
       "2            1           4  \n",
       "3            1           4  \n",
       "4            1           1  \n",
       "\n",
       "[5 rows x 25 columns]"
      ]
     },
     "execution_count": 105,
     "metadata": {},
     "output_type": "execute_result"
    }
   ],
   "source": [
    "df.head()"
   ]
  },
  {
   "cell_type": "code",
   "execution_count": 106,
   "id": "dcb63c44-4968-4c6f-ab64-a7db396a2c66",
   "metadata": {},
   "outputs": [
    {
     "data": {
      "text/plain": [
       "1151860    40\n",
       "853115     39\n",
       "965763     38\n",
       "108489     38\n",
       "1043670    36\n",
       "           ..\n",
       "1723578     1\n",
       "582377      1\n",
       "1817126     1\n",
       "1872615     1\n",
       "1384444     1\n",
       "Name: ID_token, Length: 18771, dtype: int64"
      ]
     },
     "execution_count": 106,
     "metadata": {},
     "output_type": "execute_result"
    }
   ],
   "source": [
    "df['ID_token'].value_counts()"
   ]
  },
  {
   "cell_type": "code",
   "execution_count": 108,
   "id": "a79f7fef-ef59-4c31-9bd7-a15460c9f2c0",
   "metadata": {},
   "outputs": [
    {
     "data": {
      "text/plain": [
       "1     18357\n",
       "2       604\n",
       "35      210\n",
       "3       168\n",
       "38       76\n",
       "4        60\n",
       "29       58\n",
       "5        50\n",
       "40       40\n",
       "39       39\n",
       "36       36\n",
       "32       32\n",
       "31       31\n",
       "30       30\n",
       "28       28\n",
       "27       27\n",
       "23       23\n",
       "11       22\n",
       "21       21\n",
       "19       19\n",
       "6        18\n",
       "17       17\n",
       "10       10\n",
       "9         9\n",
       "8         8\n",
       "7         7\n",
       "Name: sold_counts, dtype: int64"
      ]
     },
     "execution_count": 108,
     "metadata": {},
     "output_type": "execute_result"
    }
   ],
   "source": [
    "df['sold_counts'].value_counts()"
   ]
  },
  {
   "cell_type": "code",
   "execution_count": null,
   "id": "1d1b1348-1cc8-43f5-a51e-09c80735d5af",
   "metadata": {},
   "outputs": [],
   "source": []
  },
  {
   "cell_type": "code",
   "execution_count": 109,
   "id": "8d4452ae-8f09-4d6b-9d87-ba37314ec1ac",
   "metadata": {},
   "outputs": [],
   "source": [
    "df.to_csv(\"master_clean.csv\")"
   ]
  },
  {
   "cell_type": "code",
   "execution_count": null,
   "id": "6574be79-c4a7-46d7-8e01-5c1f1fd15135",
   "metadata": {},
   "outputs": [],
   "source": []
  }
 ],
 "metadata": {
  "kernelspec": {
   "display_name": "Python 3",
   "language": "python",
   "name": "python3"
  },
  "language_info": {
   "codemirror_mode": {
    "name": "ipython",
    "version": 3
   },
   "file_extension": ".py",
   "mimetype": "text/x-python",
   "name": "python",
   "nbconvert_exporter": "python",
   "pygments_lexer": "ipython3",
   "version": "3.8.8"
  }
 },
 "nbformat": 4,
 "nbformat_minor": 5
}
